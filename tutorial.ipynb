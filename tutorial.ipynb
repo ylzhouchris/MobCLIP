{
 "cells": [
  {
   "cell_type": "markdown",
   "id": "8ae45661-d7ea-49af-8277-a6bf34c636bf",
   "metadata": {},
   "source": [
    "# MobCLIP tutorial"
   ]
  },
  {
   "cell_type": "markdown",
   "id": "b2f40f95-2571-4768-b729-6336f4d35c92",
   "metadata": {},
   "source": [
    "### Obtain the pretrained MobCLIP embeddings for any given coordinates"
   ]
  },
  {
   "cell_type": "code",
   "execution_count": 1,
   "id": "e2d0a34b-8d90-43b4-8177-22bc1518a4d5",
   "metadata": {},
   "outputs": [],
   "source": [
    "import sys\n",
    "sys.path.append('pretrained_distilled_model')\n",
    "\n",
    "import torch\n",
    "from distilled_model import *\n"
   ]
  },
  {
   "cell_type": "code",
   "execution_count": 2,
   "id": "8333ef2f-d6d9-4e02-8da9-a4ab59e39a91",
   "metadata": {},
   "outputs": [],
   "source": [
    "path = 'pretrained_distilled_model/distilled_MobCLIP.pth'\n",
    "device = torch.device('cuda' if torch.cuda.is_available() else 'cpu')\n",
    "\n",
    "c = torch.randn(32, 2) # Represents a batch of 32 locations (lon/lat)\n",
    "\n",
    "model = load(path, device=device) # Load the distilled model as a surrogate for MobCLIP.\n",
    "model.eval()\n",
    "with torch.no_grad():\n",
    "    embeddings = model(c.double().to(device)).detach().cpu()"
   ]
  },
  {
   "cell_type": "code",
   "execution_count": 3,
   "id": "169c7c14-a5c6-41cf-8eea-cf6b40340926",
   "metadata": {},
   "outputs": [
    {
     "data": {
      "text/plain": [
       "tensor([[-0.2800, -0.1108, -0.2344,  ..., -0.0620, -0.2259,  0.0011],\n",
       "        [ 0.2111, -0.3647,  0.0584,  ..., -0.4883, -0.0922,  0.2911],\n",
       "        [-0.0623, -0.1450, -0.3106,  ..., -0.4109, -0.0837,  0.1598],\n",
       "        ...,\n",
       "        [ 0.0433,  0.0646, -0.0423,  ...,  0.0755, -0.2586,  0.0385],\n",
       "        [ 0.1259,  0.0634,  0.0735,  ...,  0.0633, -0.0774,  0.0441],\n",
       "        [ 0.0742,  0.0022,  0.0201,  ...,  0.0134, -0.0470,  0.0343]],\n",
       "       dtype=torch.float64)"
      ]
     },
     "execution_count": 3,
     "metadata": {},
     "output_type": "execute_result"
    }
   ],
   "source": [
    "embeddings"
   ]
  },
  {
   "cell_type": "code",
   "execution_count": 4,
   "id": "54b54ae0-2bf2-4bcf-9014-d008f5a5949b",
   "metadata": {},
   "outputs": [
    {
     "data": {
      "text/plain": [
       "torch.Size([32, 128])"
      ]
     },
     "execution_count": 4,
     "metadata": {},
     "output_type": "execute_result"
    }
   ],
   "source": [
    "embeddings.shape"
   ]
  },
  {
   "cell_type": "markdown",
   "id": "a899733c-0f65-497c-8de0-f352adeda2af",
   "metadata": {},
   "source": [
    "### Get nationwide region embeddings"
   ]
  },
  {
   "cell_type": "code",
   "execution_count": 12,
   "id": "3f882a1c-10ed-4c70-be36-482130d77665",
   "metadata": {},
   "outputs": [],
   "source": [
    "# get the coordinates of H3 in china\n",
    "import pandas as pd\n",
    "\n",
    "h3 = pd.read_pickle('embeddings/lv6_h3_china.pkl')"
   ]
  },
  {
   "cell_type": "code",
   "execution_count": 13,
   "id": "39590e91-c197-4c17-ab9a-6901a0e3531a",
   "metadata": {},
   "outputs": [
    {
     "data": {
      "text/html": [
       "<div>\n",
       "<style scoped>\n",
       "    .dataframe tbody tr th:only-of-type {\n",
       "        vertical-align: middle;\n",
       "    }\n",
       "\n",
       "    .dataframe tbody tr th {\n",
       "        vertical-align: top;\n",
       "    }\n",
       "\n",
       "    .dataframe thead th {\n",
       "        text-align: right;\n",
       "    }\n",
       "</style>\n",
       "<table border=\"1\" class=\"dataframe\">\n",
       "  <thead>\n",
       "    <tr style=\"text-align: right;\">\n",
       "      <th></th>\n",
       "      <th>h3</th>\n",
       "      <th>longitude</th>\n",
       "      <th>latitude</th>\n",
       "    </tr>\n",
       "  </thead>\n",
       "  <tbody>\n",
       "    <tr>\n",
       "      <th>0</th>\n",
       "      <td>8640e3cefffffff</td>\n",
       "      <td>104.057273</td>\n",
       "      <td>30.665787</td>\n",
       "    </tr>\n",
       "    <tr>\n",
       "      <th>1</th>\n",
       "      <td>86408859fffffff</td>\n",
       "      <td>108.937699</td>\n",
       "      <td>34.266360</td>\n",
       "    </tr>\n",
       "    <tr>\n",
       "      <th>2</th>\n",
       "      <td>864118b2fffffff</td>\n",
       "      <td>113.286798</td>\n",
       "      <td>23.134293</td>\n",
       "    </tr>\n",
       "    <tr>\n",
       "      <th>3</th>\n",
       "      <td>864118b27ffffff</td>\n",
       "      <td>113.348234</td>\n",
       "      <td>23.123088</td>\n",
       "    </tr>\n",
       "    <tr>\n",
       "      <th>4</th>\n",
       "      <td>864019627ffffff</td>\n",
       "      <td>106.515547</td>\n",
       "      <td>29.568050</td>\n",
       "    </tr>\n",
       "    <tr>\n",
       "      <th>...</th>\n",
       "      <td>...</td>\n",
       "      <td>...</td>\n",
       "      <td>...</td>\n",
       "    </tr>\n",
       "    <tr>\n",
       "      <th>195569</th>\n",
       "      <td>863c20b97ffffff</td>\n",
       "      <td>84.473605</td>\n",
       "      <td>31.179140</td>\n",
       "    </tr>\n",
       "    <tr>\n",
       "      <th>195570</th>\n",
       "      <td>86149c127ffffff</td>\n",
       "      <td>129.652586</td>\n",
       "      <td>47.129015</td>\n",
       "    </tr>\n",
       "    <tr>\n",
       "      <th>195571</th>\n",
       "      <td>86259d417ffffff</td>\n",
       "      <td>92.708253</td>\n",
       "      <td>41.567457</td>\n",
       "    </tr>\n",
       "    <tr>\n",
       "      <th>195572</th>\n",
       "      <td>8640eaa1fffffff</td>\n",
       "      <td>101.327904</td>\n",
       "      <td>30.969196</td>\n",
       "    </tr>\n",
       "    <tr>\n",
       "      <th>195573</th>\n",
       "      <td>861590137ffffff</td>\n",
       "      <td>117.165955</td>\n",
       "      <td>48.440033</td>\n",
       "    </tr>\n",
       "  </tbody>\n",
       "</table>\n",
       "<p>195574 rows × 3 columns</p>\n",
       "</div>"
      ],
      "text/plain": [
       "                     h3   longitude   latitude\n",
       "0       8640e3cefffffff  104.057273  30.665787\n",
       "1       86408859fffffff  108.937699  34.266360\n",
       "2       864118b2fffffff  113.286798  23.134293\n",
       "3       864118b27ffffff  113.348234  23.123088\n",
       "4       864019627ffffff  106.515547  29.568050\n",
       "...                 ...         ...        ...\n",
       "195569  863c20b97ffffff   84.473605  31.179140\n",
       "195570  86149c127ffffff  129.652586  47.129015\n",
       "195571  86259d417ffffff   92.708253  41.567457\n",
       "195572  8640eaa1fffffff  101.327904  30.969196\n",
       "195573  861590137ffffff  117.165955  48.440033\n",
       "\n",
       "[195574 rows x 3 columns]"
      ]
     },
     "execution_count": 13,
     "metadata": {},
     "output_type": "execute_result"
    }
   ],
   "source": [
    "h3"
   ]
  },
  {
   "cell_type": "code",
   "execution_count": 18,
   "id": "fa866180-28ef-48d8-9269-b29ec35c676b",
   "metadata": {},
   "outputs": [],
   "source": [
    "coords = torch.tensor(h3[['longitude', 'latitude']].values, dtype=torch.float32)"
   ]
  },
  {
   "cell_type": "code",
   "execution_count": 19,
   "id": "c9d640bd-c37a-47cf-8dc6-b61e04191b20",
   "metadata": {},
   "outputs": [
    {
     "data": {
      "text/plain": [
       "tensor([[104.0573,  30.6658],\n",
       "        [108.9377,  34.2664],\n",
       "        [113.2868,  23.1343],\n",
       "        ...,\n",
       "        [ 92.7083,  41.5675],\n",
       "        [101.3279,  30.9692],\n",
       "        [117.1660,  48.4400]])"
      ]
     },
     "execution_count": 19,
     "metadata": {},
     "output_type": "execute_result"
    }
   ],
   "source": [
    "coords"
   ]
  },
  {
   "cell_type": "code",
   "execution_count": 20,
   "id": "63dc9c77-a009-4edc-8126-3bce71dbd146",
   "metadata": {},
   "outputs": [],
   "source": [
    "model.eval()\n",
    "with torch.no_grad():\n",
    "    embeddings = model(coords.double().to(device)).detach().cpu()"
   ]
  },
  {
   "cell_type": "code",
   "execution_count": 23,
   "id": "0bc12792-2a2d-418a-883a-dbb263ae0fd9",
   "metadata": {},
   "outputs": [
    {
     "data": {
      "text/plain": [
       "tensor([[ 1.1620e+00, -3.7438e+00,  3.1581e+00,  ..., -5.0073e+00,\n",
       "          2.0982e+00, -3.7038e+00],\n",
       "        [-9.5660e-01, -9.5516e-01,  2.5612e+00,  ..., -2.9535e+00,\n",
       "          3.4739e+00, -1.8794e+00],\n",
       "        [ 1.2709e+00, -2.0818e+00,  2.2067e+00,  ..., -5.5405e-01,\n",
       "          3.7166e+00, -3.8148e+00],\n",
       "        ...,\n",
       "        [ 4.6204e-02,  1.6791e-02,  5.6124e-02,  ...,  3.3333e-02,\n",
       "         -1.7934e-02,  1.9150e-03],\n",
       "        [ 3.4828e-02,  1.2354e-01,  2.1645e-01,  ..., -4.4098e-02,\n",
       "         -1.5078e-02,  3.0726e-02],\n",
       "        [ 3.2826e-02, -1.7798e-01, -5.1692e-02,  ...,  1.4076e-01,\n",
       "         -5.8189e-02, -1.3192e-02]], dtype=torch.float64)"
      ]
     },
     "execution_count": 23,
     "metadata": {},
     "output_type": "execute_result"
    }
   ],
   "source": [
    "embeddings"
   ]
  },
  {
   "cell_type": "code",
   "execution_count": null,
   "id": "0cb77e9a-6bc3-42de-ab66-873ba4e292a2",
   "metadata": {},
   "outputs": [],
   "source": [
    "new_df = pd.DataFrame({\n",
    "    'h3': h3['h3'],\n",
    "    'ebd': ebd_array.tolist()  # 将 Tensor 转为列表存储到 DataFrame 的列中\n",
    "})"
   ]
  }
 ],
 "metadata": {
  "kernelspec": {
   "display_name": "myenv3.9",
   "language": "python",
   "name": "myenv"
  },
  "language_info": {
   "codemirror_mode": {
    "name": "ipython",
    "version": 3
   },
   "file_extension": ".py",
   "mimetype": "text/x-python",
   "name": "python",
   "nbconvert_exporter": "python",
   "pygments_lexer": "ipython3",
   "version": "3.9.21"
  }
 },
 "nbformat": 4,
 "nbformat_minor": 5
}
