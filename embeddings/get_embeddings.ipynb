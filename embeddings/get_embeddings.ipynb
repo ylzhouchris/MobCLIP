{
 "cells": [
  {
   "cell_type": "markdown",
   "id": "b1ecec07-773a-4ae3-b12e-f683fc1be926",
   "metadata": {},
   "source": [
    "# Get nationwide region embeddings"
   ]
  },
  {
   "cell_type": "markdown",
   "id": "12a23211-7d3c-4214-a2d2-1aa96f3e1405",
   "metadata": {},
   "source": [
    "## Distilled MobCLIP embeddings"
   ]
  },
  {
   "cell_type": "code",
   "execution_count": 1,
   "id": "ecd70ddd-a76d-4749-ba3f-d7b0837393af",
   "metadata": {},
   "outputs": [],
   "source": [
    "import sys\n",
    "sys.path.append('../pretrained_distilled_model')\n",
    "\n",
    "import torch\n",
    "from distilled_model import *"
   ]
  },
  {
   "cell_type": "markdown",
   "id": "ca2b6b05-3624-4eda-9f1f-fe014ebe90a1",
   "metadata": {},
   "source": [
    "Load the distilled model as a surrogate for MobCLIP."
   ]
  },
  {
   "cell_type": "code",
   "execution_count": 2,
   "id": "d640c203-2ece-4a55-bee5-e37218ebcff2",
   "metadata": {},
   "outputs": [],
   "source": [
    "path = '../pretrained_distilled_model/distilled_MobCLIP.pth'\n",
    "device = torch.device('cuda' if torch.cuda.is_available() else 'cpu')\n",
    "model = load(path, device=device) "
   ]
  },
  {
   "cell_type": "markdown",
   "id": "3833ca07-32ad-4383-9a31-d50d9cb1a93c",
   "metadata": {},
   "source": [
    "Load the H3 central coordinates."
   ]
  },
  {
   "cell_type": "code",
   "execution_count": 3,
   "id": "248610af-1030-499c-8c02-a296d9a93624",
   "metadata": {},
   "outputs": [],
   "source": [
    "import pandas as pd\n",
    "\n",
    "h3 = pd.read_pickle('lv6_h3_china.pkl')"
   ]
  },
  {
   "cell_type": "code",
   "execution_count": 4,
   "id": "d33d2fe8-a7a0-43ae-9855-7b930d9fba7b",
   "metadata": {},
   "outputs": [
    {
     "data": {
      "text/html": [
       "<div>\n",
       "<style scoped>\n",
       "    .dataframe tbody tr th:only-of-type {\n",
       "        vertical-align: middle;\n",
       "    }\n",
       "\n",
       "    .dataframe tbody tr th {\n",
       "        vertical-align: top;\n",
       "    }\n",
       "\n",
       "    .dataframe thead th {\n",
       "        text-align: right;\n",
       "    }\n",
       "</style>\n",
       "<table border=\"1\" class=\"dataframe\">\n",
       "  <thead>\n",
       "    <tr style=\"text-align: right;\">\n",
       "      <th></th>\n",
       "      <th>h3</th>\n",
       "      <th>longitude</th>\n",
       "      <th>latitude</th>\n",
       "    </tr>\n",
       "  </thead>\n",
       "  <tbody>\n",
       "    <tr>\n",
       "      <th>0</th>\n",
       "      <td>8640e3cefffffff</td>\n",
       "      <td>104.057273</td>\n",
       "      <td>30.665787</td>\n",
       "    </tr>\n",
       "    <tr>\n",
       "      <th>1</th>\n",
       "      <td>86408859fffffff</td>\n",
       "      <td>108.937699</td>\n",
       "      <td>34.266360</td>\n",
       "    </tr>\n",
       "    <tr>\n",
       "      <th>2</th>\n",
       "      <td>864118b2fffffff</td>\n",
       "      <td>113.286798</td>\n",
       "      <td>23.134293</td>\n",
       "    </tr>\n",
       "    <tr>\n",
       "      <th>3</th>\n",
       "      <td>864118b27ffffff</td>\n",
       "      <td>113.348234</td>\n",
       "      <td>23.123088</td>\n",
       "    </tr>\n",
       "    <tr>\n",
       "      <th>4</th>\n",
       "      <td>864019627ffffff</td>\n",
       "      <td>106.515547</td>\n",
       "      <td>29.568050</td>\n",
       "    </tr>\n",
       "    <tr>\n",
       "      <th>...</th>\n",
       "      <td>...</td>\n",
       "      <td>...</td>\n",
       "      <td>...</td>\n",
       "    </tr>\n",
       "    <tr>\n",
       "      <th>195569</th>\n",
       "      <td>863c20b97ffffff</td>\n",
       "      <td>84.473605</td>\n",
       "      <td>31.179140</td>\n",
       "    </tr>\n",
       "    <tr>\n",
       "      <th>195570</th>\n",
       "      <td>86149c127ffffff</td>\n",
       "      <td>129.652586</td>\n",
       "      <td>47.129015</td>\n",
       "    </tr>\n",
       "    <tr>\n",
       "      <th>195571</th>\n",
       "      <td>86259d417ffffff</td>\n",
       "      <td>92.708253</td>\n",
       "      <td>41.567457</td>\n",
       "    </tr>\n",
       "    <tr>\n",
       "      <th>195572</th>\n",
       "      <td>8640eaa1fffffff</td>\n",
       "      <td>101.327904</td>\n",
       "      <td>30.969196</td>\n",
       "    </tr>\n",
       "    <tr>\n",
       "      <th>195573</th>\n",
       "      <td>861590137ffffff</td>\n",
       "      <td>117.165955</td>\n",
       "      <td>48.440033</td>\n",
       "    </tr>\n",
       "  </tbody>\n",
       "</table>\n",
       "<p>195574 rows × 3 columns</p>\n",
       "</div>"
      ],
      "text/plain": [
       "                     h3   longitude   latitude\n",
       "0       8640e3cefffffff  104.057273  30.665787\n",
       "1       86408859fffffff  108.937699  34.266360\n",
       "2       864118b2fffffff  113.286798  23.134293\n",
       "3       864118b27ffffff  113.348234  23.123088\n",
       "4       864019627ffffff  106.515547  29.568050\n",
       "...                 ...         ...        ...\n",
       "195569  863c20b97ffffff   84.473605  31.179140\n",
       "195570  86149c127ffffff  129.652586  47.129015\n",
       "195571  86259d417ffffff   92.708253  41.567457\n",
       "195572  8640eaa1fffffff  101.327904  30.969196\n",
       "195573  861590137ffffff  117.165955  48.440033\n",
       "\n",
       "[195574 rows x 3 columns]"
      ]
     },
     "execution_count": 4,
     "metadata": {},
     "output_type": "execute_result"
    }
   ],
   "source": [
    "h3"
   ]
  },
  {
   "cell_type": "code",
   "execution_count": 5,
   "id": "29485f7e-4d44-43cc-a24b-db77bbb4bae6",
   "metadata": {},
   "outputs": [],
   "source": [
    "coords = torch.tensor(h3[['longitude', 'latitude']].values, dtype=torch.float32)\n",
    "model.eval()\n",
    "with torch.no_grad():\n",
    "    embeddings = model(coords.double().to(device)).detach().cpu()"
   ]
  },
  {
   "cell_type": "code",
   "execution_count": 6,
   "id": "4f2e4c22-d583-42cb-8ba2-10af2319124c",
   "metadata": {},
   "outputs": [
    {
     "data": {
      "text/plain": [
       "torch.Size([195574, 128])"
      ]
     },
     "execution_count": 6,
     "metadata": {},
     "output_type": "execute_result"
    }
   ],
   "source": [
    "embeddings.shape"
   ]
  },
  {
   "cell_type": "code",
   "execution_count": 7,
   "id": "7d60e8a2-1e20-4816-8082-839ae36c14d5",
   "metadata": {},
   "outputs": [],
   "source": [
    "df = pd.DataFrame({\n",
    "    'h3': h3['h3'],\n",
    "    'ebd': embeddings.tolist()  \n",
    "})"
   ]
  },
  {
   "cell_type": "code",
   "execution_count": 8,
   "id": "aaa43e63-448b-4e05-a631-6d2ac7bfcde1",
   "metadata": {},
   "outputs": [
    {
     "data": {
      "text/html": [
       "<div>\n",
       "<style scoped>\n",
       "    .dataframe tbody tr th:only-of-type {\n",
       "        vertical-align: middle;\n",
       "    }\n",
       "\n",
       "    .dataframe tbody tr th {\n",
       "        vertical-align: top;\n",
       "    }\n",
       "\n",
       "    .dataframe thead th {\n",
       "        text-align: right;\n",
       "    }\n",
       "</style>\n",
       "<table border=\"1\" class=\"dataframe\">\n",
       "  <thead>\n",
       "    <tr style=\"text-align: right;\">\n",
       "      <th></th>\n",
       "      <th>h3</th>\n",
       "      <th>ebd</th>\n",
       "    </tr>\n",
       "  </thead>\n",
       "  <tbody>\n",
       "    <tr>\n",
       "      <th>0</th>\n",
       "      <td>8640e3cefffffff</td>\n",
       "      <td>[1.1620392464487912, -3.7438002390840173, 3.15...</td>\n",
       "    </tr>\n",
       "    <tr>\n",
       "      <th>1</th>\n",
       "      <td>86408859fffffff</td>\n",
       "      <td>[-0.9566033939110425, -0.9551551677419909, 2.5...</td>\n",
       "    </tr>\n",
       "    <tr>\n",
       "      <th>2</th>\n",
       "      <td>864118b2fffffff</td>\n",
       "      <td>[1.27092297188211, -2.081754681914115, 2.20666...</td>\n",
       "    </tr>\n",
       "    <tr>\n",
       "      <th>3</th>\n",
       "      <td>864118b27ffffff</td>\n",
       "      <td>[1.3712669695304402, -2.031194048761742, 2.212...</td>\n",
       "    </tr>\n",
       "    <tr>\n",
       "      <th>4</th>\n",
       "      <td>864019627ffffff</td>\n",
       "      <td>[1.473237274721895, -3.666506090103306, 2.9035...</td>\n",
       "    </tr>\n",
       "    <tr>\n",
       "      <th>...</th>\n",
       "      <td>...</td>\n",
       "      <td>...</td>\n",
       "    </tr>\n",
       "    <tr>\n",
       "      <th>195569</th>\n",
       "      <td>863c20b97ffffff</td>\n",
       "      <td>[0.01666142594491266, 0.021135190911021007, 0....</td>\n",
       "    </tr>\n",
       "    <tr>\n",
       "      <th>195570</th>\n",
       "      <td>86149c127ffffff</td>\n",
       "      <td>[0.03265942597180866, -0.01914424230459001, -0...</td>\n",
       "    </tr>\n",
       "    <tr>\n",
       "      <th>195571</th>\n",
       "      <td>86259d417ffffff</td>\n",
       "      <td>[0.04620417538989387, 0.016791471451539183, 0....</td>\n",
       "    </tr>\n",
       "    <tr>\n",
       "      <th>195572</th>\n",
       "      <td>8640eaa1fffffff</td>\n",
       "      <td>[0.0348278866815696, 0.12354336209854194, 0.21...</td>\n",
       "    </tr>\n",
       "    <tr>\n",
       "      <th>195573</th>\n",
       "      <td>861590137ffffff</td>\n",
       "      <td>[0.03282644562915285, -0.1779789258113833, -0....</td>\n",
       "    </tr>\n",
       "  </tbody>\n",
       "</table>\n",
       "<p>195574 rows × 2 columns</p>\n",
       "</div>"
      ],
      "text/plain": [
       "                     h3                                                ebd\n",
       "0       8640e3cefffffff  [1.1620392464487912, -3.7438002390840173, 3.15...\n",
       "1       86408859fffffff  [-0.9566033939110425, -0.9551551677419909, 2.5...\n",
       "2       864118b2fffffff  [1.27092297188211, -2.081754681914115, 2.20666...\n",
       "3       864118b27ffffff  [1.3712669695304402, -2.031194048761742, 2.212...\n",
       "4       864019627ffffff  [1.473237274721895, -3.666506090103306, 2.9035...\n",
       "...                 ...                                                ...\n",
       "195569  863c20b97ffffff  [0.01666142594491266, 0.021135190911021007, 0....\n",
       "195570  86149c127ffffff  [0.03265942597180866, -0.01914424230459001, -0...\n",
       "195571  86259d417ffffff  [0.04620417538989387, 0.016791471451539183, 0....\n",
       "195572  8640eaa1fffffff  [0.0348278866815696, 0.12354336209854194, 0.21...\n",
       "195573  861590137ffffff  [0.03282644562915285, -0.1779789258113833, -0....\n",
       "\n",
       "[195574 rows x 2 columns]"
      ]
     },
     "execution_count": 8,
     "metadata": {},
     "output_type": "execute_result"
    }
   ],
   "source": [
    "df"
   ]
  },
  {
   "cell_type": "markdown",
   "id": "b38cdbe1-bd39-48fd-a752-4958a5576887",
   "metadata": {},
   "source": [
    "Save the embeddings for downstream validation."
   ]
  },
  {
   "cell_type": "code",
   "execution_count": 9,
   "id": "a8aef541-5c55-4b97-aa1b-b73808cd42b0",
   "metadata": {},
   "outputs": [],
   "source": [
    "# save the embeddings for downstream evaluation\n",
    "df.to_pickle('distilled_MobCLIP.pkl') "
   ]
  },
  {
   "cell_type": "markdown",
   "id": "b82890f0-2b94-4d0e-89bf-163b8fe85849",
   "metadata": {},
   "source": [
    "## SatCLIP embeddings"
   ]
  },
  {
   "cell_type": "markdown",
   "id": "9408065a-2802-480d-9197-e492c44c4e8e",
   "metadata": {},
   "source": [
    "To obtained pretrained **SatCLIP** embeddings, first install the repository."
   ]
  },
  {
   "cell_type": "code",
   "execution_count": null,
   "id": "5c77c16c-6463-4c81-820f-0e3544200c35",
   "metadata": {},
   "outputs": [],
   "source": [
    "!rm -r sample_data .config # Empty current directory\n",
    "!git clone https://github.com/microsoft/satclip.git . # Clone SatCLIP repository"
   ]
  },
  {
   "cell_type": "markdown",
   "id": "7cbd3799-6a04-4c8f-863a-4f7d8ee4f646",
   "metadata": {},
   "source": [
    "Install required packages."
   ]
  },
  {
   "cell_type": "code",
   "execution_count": null,
   "id": "e0781ecc-69cb-4d5e-8d11-ae35ead5daa8",
   "metadata": {},
   "outputs": [],
   "source": [
    "!pip install lightning --quiet\n",
    "!pip install rasterio --quiet\n",
    "!pip install torchgeo --quiet"
   ]
  },
  {
   "cell_type": "markdown",
   "id": "1f38868d-75fd-4501-8d5c-06b1d3d9841d",
   "metadata": {},
   "source": [
    "We choose a SatCLIP using a vit vision encoder and $L=40$ Legendre polynomials for spherical harmonics calculation in the location encoder for comparison."
   ]
  },
  {
   "cell_type": "code",
   "execution_count": null,
   "id": "6092cfe1-e600-4c2f-ad8f-73d87dd0cf2c",
   "metadata": {},
   "outputs": [],
   "source": [
    "!wget 'https://satclip.z13.web.core.windows.net/satclip/satclip-vit16-l40.ckpt'"
   ]
  },
  {
   "cell_type": "code",
   "execution_count": 10,
   "id": "b7cbb6ad-cf13-423d-ac49-fa34c3b93772",
   "metadata": {},
   "outputs": [],
   "source": [
    "import sys\n",
    "sys.path.append('./satclip')\n",
    "\n",
    "\n",
    "import torch\n",
    "from load import get_satclip"
   ]
  },
  {
   "cell_type": "code",
   "execution_count": 13,
   "id": "dcf00e90-1ef8-4edf-8b25-ca36c25d91f4",
   "metadata": {},
   "outputs": [
    {
     "name": "stdout",
     "output_type": "stream",
     "text": [
      "using pretrained moco vit16\n"
     ]
    }
   ],
   "source": [
    "satclip_path = 'satclip-vit16-l40.ckpt'\n",
    "\n",
    "device = torch.device('cuda' if torch.cuda.is_available() else 'cpu')\n",
    "\n",
    "\n",
    "satclip_model = get_satclip(satclip_path, device=device) # Only loads location encoder by default\n",
    "satclip_model.eval()\n",
    "\n",
    "h3 = pd.read_pickle('lv6_h3_china.pkl')\n",
    "coords = torch.tensor(h3[['longitude', 'latitude']].values, dtype=torch.float32)\n",
    "\n",
    "with torch.no_grad():\n",
    "    satclip_embeddings  = satclip_model(coords.double().to(device)).detach().cpu()"
   ]
  },
  {
   "cell_type": "code",
   "execution_count": 14,
   "id": "fb3d1758-4d16-4474-bdab-571292c1ec09",
   "metadata": {},
   "outputs": [],
   "source": [
    "satclip_df = pd.DataFrame({\n",
    "    'h3': h3['h3'],\n",
    "    'ebd': satclip_embeddings.tolist()  \n",
    "})"
   ]
  },
  {
   "cell_type": "code",
   "execution_count": 15,
   "id": "0b5f400f-86d0-47c9-946b-b3daae4b5825",
   "metadata": {},
   "outputs": [
    {
     "data": {
      "text/html": [
       "<div>\n",
       "<style scoped>\n",
       "    .dataframe tbody tr th:only-of-type {\n",
       "        vertical-align: middle;\n",
       "    }\n",
       "\n",
       "    .dataframe tbody tr th {\n",
       "        vertical-align: top;\n",
       "    }\n",
       "\n",
       "    .dataframe thead th {\n",
       "        text-align: right;\n",
       "    }\n",
       "</style>\n",
       "<table border=\"1\" class=\"dataframe\">\n",
       "  <thead>\n",
       "    <tr style=\"text-align: right;\">\n",
       "      <th></th>\n",
       "      <th>h3</th>\n",
       "      <th>ebd</th>\n",
       "    </tr>\n",
       "  </thead>\n",
       "  <tbody>\n",
       "    <tr>\n",
       "      <th>0</th>\n",
       "      <td>8640e3cefffffff</td>\n",
       "      <td>[0.7885097337042274, 0.668696744529086, 3.8145...</td>\n",
       "    </tr>\n",
       "    <tr>\n",
       "      <th>1</th>\n",
       "      <td>86408859fffffff</td>\n",
       "      <td>[-0.7540319008796809, 1.9027509927487722, -2.1...</td>\n",
       "    </tr>\n",
       "  </tbody>\n",
       "</table>\n",
       "</div>"
      ],
      "text/plain": [
       "                h3                                                ebd\n",
       "0  8640e3cefffffff  [0.7885097337042274, 0.668696744529086, 3.8145...\n",
       "1  86408859fffffff  [-0.7540319008796809, 1.9027509927487722, -2.1..."
      ]
     },
     "execution_count": 15,
     "metadata": {},
     "output_type": "execute_result"
    }
   ],
   "source": [
    "satclip_df.head(2)"
   ]
  },
  {
   "cell_type": "code",
   "execution_count": null,
   "id": "b84913c5-3625-436f-9c29-5340789dfc23",
   "metadata": {},
   "outputs": [],
   "source": [
    "# save the embeddings for downstream evaluation\n",
    "satclip_df.to_pickle('satclip.pkl')"
   ]
  },
  {
   "cell_type": "markdown",
   "id": "777b0130-14b5-4987-8b3f-eec3bb626a21",
   "metadata": {},
   "source": [
    "## GeoCLIP embeddings"
   ]
  },
  {
   "cell_type": "markdown",
   "id": "5bbc5fac-2893-4f5c-94e2-f9a0540216a3",
   "metadata": {},
   "source": [
    "First install the package."
   ]
  },
  {
   "cell_type": "code",
   "execution_count": null,
   "id": "e0ba577a-1779-49e6-91cd-d28c2e1371ab",
   "metadata": {},
   "outputs": [],
   "source": [
    "!pip install geoclip    "
   ]
  },
  {
   "cell_type": "code",
   "execution_count": 1,
   "id": "a4204508-de66-4a9b-8098-76d0d5ce2fc8",
   "metadata": {},
   "outputs": [],
   "source": [
    "from geoclip import LocationEncoder\n",
    "import pandas as pd\n",
    "import torch\n",
    "import torch.nn as nn\n",
    "\n",
    "\n",
    "# Automatically load pretrained weights\n",
    "geoclip_model = LocationEncoder()\n",
    "geoclip_model.eval()\n",
    "\n",
    "\n",
    "h3 = pd.read_pickle('lv6_h3_china.pkl')\n",
    "coords = torch.tensor(h3[['latitude', 'longitude']].values, dtype=torch.float32)  ## Notice that GeoCLIP requires input to be (lat, lon)\n",
    "\n",
    "\n",
    "with torch.no_grad():\n",
    "    geoclip_embeddings = geoclip_model(coords).detach().cpu()"
   ]
  },
  {
   "cell_type": "code",
   "execution_count": 2,
   "id": "6eb6f2b1-2a72-4233-b66c-86a73e018cc7",
   "metadata": {},
   "outputs": [
    {
     "data": {
      "text/plain": [
       "tensor([[-0.0201,  0.0039,  0.0039,  ..., -0.0048, -0.0057, -0.0132],\n",
       "        [ 0.0048, -0.0058, -0.0061,  ..., -0.0150, -0.0056, -0.0368],\n",
       "        [-0.0102, -0.0120, -0.0040,  ...,  0.0081,  0.0006, -0.0314],\n",
       "        ...,\n",
       "        [ 0.0008, -0.0197,  0.0106,  ..., -0.0259,  0.0051,  0.0076],\n",
       "        [ 0.0209,  0.0038, -0.0019,  ...,  0.0310, -0.0189,  0.0079],\n",
       "        [ 0.0234,  0.0084,  0.0113,  ...,  0.0015, -0.0139,  0.0009]])"
      ]
     },
     "execution_count": 2,
     "metadata": {},
     "output_type": "execute_result"
    }
   ],
   "source": [
    "geoclip_embeddings"
   ]
  },
  {
   "cell_type": "code",
   "execution_count": 3,
   "id": "d4c7dc10-0ec7-462d-90d3-104532907923",
   "metadata": {},
   "outputs": [],
   "source": [
    "geoclip_df = pd.DataFrame({\n",
    "    'h3': h3['h3'],\n",
    "    'ebd': geoclip_embeddings.tolist()  \n",
    "})"
   ]
  },
  {
   "cell_type": "code",
   "execution_count": 4,
   "id": "59b2a6bc-47ed-41cf-a4f6-ee1b8c73ff57",
   "metadata": {},
   "outputs": [
    {
     "data": {
      "text/html": [
       "<div>\n",
       "<style scoped>\n",
       "    .dataframe tbody tr th:only-of-type {\n",
       "        vertical-align: middle;\n",
       "    }\n",
       "\n",
       "    .dataframe tbody tr th {\n",
       "        vertical-align: top;\n",
       "    }\n",
       "\n",
       "    .dataframe thead th {\n",
       "        text-align: right;\n",
       "    }\n",
       "</style>\n",
       "<table border=\"1\" class=\"dataframe\">\n",
       "  <thead>\n",
       "    <tr style=\"text-align: right;\">\n",
       "      <th></th>\n",
       "      <th>h3</th>\n",
       "      <th>ebd</th>\n",
       "    </tr>\n",
       "  </thead>\n",
       "  <tbody>\n",
       "    <tr>\n",
       "      <th>0</th>\n",
       "      <td>8640e3cefffffff</td>\n",
       "      <td>[-0.02009962499141693, 0.0038699787110090256, ...</td>\n",
       "    </tr>\n",
       "    <tr>\n",
       "      <th>1</th>\n",
       "      <td>86408859fffffff</td>\n",
       "      <td>[0.004778123460710049, -0.005807604640722275, ...</td>\n",
       "    </tr>\n",
       "  </tbody>\n",
       "</table>\n",
       "</div>"
      ],
      "text/plain": [
       "                h3                                                ebd\n",
       "0  8640e3cefffffff  [-0.02009962499141693, 0.0038699787110090256, ...\n",
       "1  86408859fffffff  [0.004778123460710049, -0.005807604640722275, ..."
      ]
     },
     "execution_count": 4,
     "metadata": {},
     "output_type": "execute_result"
    }
   ],
   "source": [
    "geoclip_df.head(2)"
   ]
  },
  {
   "cell_type": "code",
   "execution_count": null,
   "id": "ed3a7419-e7d5-4222-8779-f9e118794185",
   "metadata": {},
   "outputs": [],
   "source": [
    "# save the embeddings for downstream evaluation\n",
    "geoclip_df.to_pickle('geoclip.pkl')"
   ]
  }
 ],
 "metadata": {
  "kernelspec": {
   "display_name": "myenv3.9",
   "language": "python",
   "name": "myenv"
  },
  "language_info": {
   "codemirror_mode": {
    "name": "ipython",
    "version": 3
   },
   "file_extension": ".py",
   "mimetype": "text/x-python",
   "name": "python",
   "nbconvert_exporter": "python",
   "pygments_lexer": "ipython3",
   "version": "3.9.21"
  }
 },
 "nbformat": 4,
 "nbformat_minor": 5
}
